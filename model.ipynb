{
  "cells": [
    {
      "cell_type": "raw",
      "metadata": {},
      "source": [
        "---\n",
        "title: \"Model\"\n",
        "format:\n",
        "  html:\n",
        "    code-fold: true\n",
        "---"
      ],
      "id": "c58132c5"
    },
    {
      "cell_type": "code",
      "metadata": {},
      "source": [
        "from palmerpenguins import penguins\n",
        "from pandas import get_dummies\n",
        "import numpy as np\n",
        "from sklearn.linear_model import LinearRegression\n",
        "from sklearn import preprocessing\n",
        "\n",
        "from vetiver import VetiverModel\n",
        "from vetiver import VetiverAPI\n",
        "\n",
        "import pins\n",
        "from vetiver import vetiver_pin_write"
      ],
      "id": "4092ba7b",
      "execution_count": null,
      "outputs": []
    },
    {
      "cell_type": "markdown",
      "metadata": {},
      "source": [
        "## Get Data\n"
      ],
      "id": "b9fb44b9"
    },
    {
      "cell_type": "code",
      "metadata": {},
      "source": [
        "df = penguins.load_penguins().dropna()\n",
        "\n",
        "df.info()"
      ],
      "id": "10898917",
      "execution_count": null,
      "outputs": []
    },
    {
      "cell_type": "markdown",
      "metadata": {},
      "source": [
        "## Define Model and Fit\n"
      ],
      "id": "b9fcaaf9"
    },
    {
      "cell_type": "code",
      "metadata": {},
      "source": [
        "X = get_dummies(df[['bill_length_mm', 'species', 'sex']], drop_first = True)\n",
        "y = df['body_mass_g']\n",
        "\n",
        "model = LinearRegression().fit(X, y)"
      ],
      "id": "5e8992b5",
      "execution_count": null,
      "outputs": []
    },
    {
      "cell_type": "markdown",
      "metadata": {},
      "source": [
        "## Get some information\n"
      ],
      "id": "a3ec7860"
    },
    {
      "cell_type": "code",
      "metadata": {},
      "source": [
        "print(f\"R^2 {model.score(X,y)}\")\n",
        "print(f\"Intercept {model.intercept_}\")\n",
        "print(f\"Columns {X.columns}\")\n",
        "print(f\"Coefficients {model.coef_}\")\n",
        "\n",
        "y_pred = model.predict(X)\n",
        "\n",
        "rmse = np.sqrt(mean_squared_error(y, y_pred))\n",
        "\n",
        "print(f\"RMSE: {rmse}\")"
      ],
      "id": "22f051ac",
      "execution_count": null,
      "outputs": []
    },
    {
      "cell_type": "markdown",
      "metadata": {},
      "source": [
        "## What if we tried some other models?\n"
      ],
      "id": "56f4a03d"
    },
    {
      "cell_type": "code",
      "metadata": {},
      "source": [
        "from sklearn.model_selection import train_test_split\n",
        "from sklearn.linear_model import LinearRegression\n",
        "from sklearn.metrics import mean_squared_error\n",
        "import numpy as np\n",
        "\n",
        "# Assuming you have a dataset `X` for features and `y` for the target variable\n",
        "\n",
        "# Step 1: Split the data\n",
        "X_train, X_test, y_train, y_test = train_test_split(X, y, test_size=0.2, random_state=42)\n",
        "\n",
        "# Step 2: Train the model\n",
        "# Let's improve his model. This isn't some elementary 377 class where we train on all our data\n",
        "# We're not animals\n",
        "model1 = LinearRegression()\n",
        "model1.fit(X_train, y_train)\n",
        "\n",
        "# Step 3: Make predictions on the testing set\n",
        "y_pred1 = model1.predict(X_test)\n",
        "\n",
        "# Step 4: Calculate RMSE\n",
        "rmse = np.sqrt(mean_squared_error(y_test, y_pred1))\n",
        "\n",
        "print(f\"RMSE: {rmse}\")"
      ],
      "id": "3b06b75a",
      "execution_count": null,
      "outputs": []
    },
    {
      "cell_type": "markdown",
      "metadata": {},
      "source": [
        "# It's worse =(\n",
        "\n",
        "# Maybe the other one overfit\n",
        "\n",
        "# What if we did more predictors?\n"
      ],
      "id": "e0a76b4a"
    },
    {
      "cell_type": "code",
      "metadata": {},
      "source": [
        "X = pd.get_dummies(df[['bill_length_mm', 'bill_depth_mm', 'flipper_length_mm', 'year', 'species', 'island', 'sex']], drop_first=True)\n",
        "y = df['body_mass_g']\n",
        "\n",
        "# Step 1: Split the data\n",
        "X_train, X_test, y_train, y_test = train_test_split(X, y, test_size=0.2, random_state=42)\n",
        "\n",
        "\n",
        "model2 = LinearRegression()\n",
        "model2.fit(X_train, y_train)\n",
        "\n",
        "# Step 3: Make predictions on the testing set\n",
        "y_pred2 = model2.predict(X_test)\n",
        "\n",
        "# Step 4: Calculate RMSE\n",
        "rmse = np.sqrt(mean_squared_error(y_test, y_pred2))\n",
        "\n",
        "print(f\"RMSE: {rmse}\")"
      ],
      "id": "359ce0ae",
      "execution_count": null,
      "outputs": []
    },
    {
      "cell_type": "markdown",
      "metadata": {},
      "source": [
        "# Better. What about other models?\n"
      ],
      "id": "d4f3e64e"
    },
    {
      "cell_type": "code",
      "metadata": {},
      "source": [
        "from sklearn.tree import DecisionTreeRegressor\n",
        "\n",
        "# For classification\n",
        "tree_model = DecisionTreeRegressor()\n",
        "tree_model.fit(X_train, y_train)\n",
        "y_pred_tree = tree_model.predict(X_test)\n",
        "\n",
        "\n",
        "# Step 4: Calculate RMSE\n",
        "rmse = np.sqrt(mean_squared_error(y_test, y_pred_tree))\n",
        "\n",
        "print(f\"RMSE: {rmse}\")"
      ],
      "id": "4096832c",
      "execution_count": null,
      "outputs": []
    },
    {
      "cell_type": "markdown",
      "metadata": {},
      "source": [
        "# let's tune some hyper parameters!\n"
      ],
      "id": "3d5990f3"
    },
    {
      "cell_type": "code",
      "metadata": {},
      "source": [
        "from sklearn.model_selection import GridSearchCV\n",
        "\n",
        "# Define the model\n",
        "tree_model = DecisionTreeRegressor()\n",
        "\n",
        "# Define the parameters grid\n",
        "param_grid = {\n",
        "    'max_depth': [3, 5, 7, 10],\n",
        "    'min_samples_split': [2, 5, 10],\n",
        "    'min_samples_leaf': [1, 2, 4],\n",
        "}\n",
        "\n",
        "# Perform grid search\n",
        "grid_search = GridSearchCV(estimator=tree_model, param_grid=param_grid, cv=5, scoring='neg_mean_squared_error', n_jobs=-1)\n",
        "grid_search.fit(X_train, y_train)\n",
        "\n",
        "# Get the best model\n",
        "best_tree_model = grid_search.best_estimator_\n",
        "\n",
        "# Predict and evaluate\n",
        "y_pred = best_tree_model.predict(X_test)\n",
        "rmse = np.sqrt(mean_squared_error(y_test, y_pred))"
      ],
      "id": "3bb4cd68",
      "execution_count": null,
      "outputs": []
    },
    {
      "cell_type": "code",
      "metadata": {},
      "source": [
        "rmse"
      ],
      "id": "869213c8",
      "execution_count": null,
      "outputs": []
    },
    {
      "cell_type": "markdown",
      "metadata": {},
      "source": [
        "# Better, but still worse that linear. Let's go with linear for now.model2 was our best model, so we'll vetiverize that\n"
      ],
      "id": "033f7fae"
    },
    {
      "cell_type": "code",
      "metadata": {},
      "source": [
        "v = VetiverModel(model2, model_name='penguin_model', prototype_data=X)"
      ],
      "id": "58e015a2",
      "execution_count": null,
      "outputs": []
    },
    {
      "cell_type": "code",
      "metadata": {},
      "source": [
        "# Create a board that allows pickled models\n",
        "board = pins.board_folder('data/model', allow_pickle_read=True)\n",
        "\n",
        "# Assuming 'v' is your VetiverModel object\n",
        "# Pin the model to the board\n",
        "vetiver_pin_write(board, v, 'penguin_model')\n"
      ],
      "id": "3950e80e",
      "execution_count": null,
      "outputs": []
    },
    {
      "cell_type": "code",
      "metadata": {},
      "source": [
        "b = pins.board_folder('data/model', allow_pickle_read=True)\n",
        "v = VetiverModel.from_pin(b, 'penguin_model')"
      ],
      "id": "3daf666c",
      "execution_count": null,
      "outputs": []
    },
    {
      "cell_type": "code",
      "metadata": {},
      "source": [
        "from vetiver import VetiverAPI\n",
        "app = VetiverAPI(v, check_prototype = True)\n",
        "\n",
        "app.run(port = 8080)"
      ],
      "id": "d83c18aa",
      "execution_count": null,
      "outputs": []
    }
  ],
  "metadata": {
    "kernelspec": {
      "display_name": "Python 3",
      "language": "python",
      "name": "python3"
    }
  },
  "nbformat": 4,
  "nbformat_minor": 5
}